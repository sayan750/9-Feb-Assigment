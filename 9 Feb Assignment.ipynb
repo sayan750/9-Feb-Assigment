{
 "cells": [
  {
   "cell_type": "markdown",
   "id": "d776469a",
   "metadata": {},
   "source": [
    "### Q1."
   ]
  },
  {
   "cell_type": "code",
   "execution_count": 1,
   "id": "d13eab3f",
   "metadata": {},
   "outputs": [],
   "source": [
    "class Vehicle():\n",
    "    \n",
    "    def __init__(self, name_of_vehicle, max_speed, average_of_vehicle):\n",
    "        \n",
    "        self.name_of_vehicle = name_of_vehicle\n",
    "        self.max_speed = max_speed\n",
    "        self.average_of_vehicle = average_of_vehicle  "
   ]
  },
  {
   "cell_type": "markdown",
   "id": "5b34596b",
   "metadata": {},
   "source": [
    "### Q2."
   ]
  },
  {
   "cell_type": "code",
   "execution_count": 7,
   "id": "9b6eb034",
   "metadata": {},
   "outputs": [],
   "source": [
    "class Car(Vehicle):\n",
    "    \n",
    "    def seating_capacity(self, capacity):\n",
    "        return f\"{self.name_of_vehicle} has a seating capacity of {capacity} passengers.\""
   ]
  },
  {
   "cell_type": "code",
   "execution_count": 9,
   "id": "faf332d0",
   "metadata": {},
   "outputs": [
    {
     "name": "stdout",
     "output_type": "stream",
     "text": [
      "BMW has a seating capacity of 5 passengers.\n"
     ]
    }
   ],
   "source": [
    "MyCar = Car(\"BMW\", 200, 30)\n",
    "print(MyCar.seating_capacity(5))"
   ]
  },
  {
   "cell_type": "markdown",
   "id": "df4a8ec2",
   "metadata": {},
   "source": [
    "### Q3.\n",
    "\n",
    "**Multiple inheritance is a feature in object-oriented programming where a class can inherit attributes and methods from more than one parent class.**"
   ]
  },
  {
   "cell_type": "code",
   "execution_count": 10,
   "id": "a91e0a0a",
   "metadata": {},
   "outputs": [
    {
     "name": "stdout",
     "output_type": "stream",
     "text": [
      "Mr\n",
      "SAYAN\n",
      "GHOSH\n"
     ]
    }
   ],
   "source": [
    "class A:\n",
    "    def foo(self):\n",
    "        print(\"Mr\")\n",
    "\n",
    "class B:\n",
    "    def bar(self):\n",
    "        print(\"SAYAN\")\n",
    "\n",
    "class C(A, B):\n",
    "    def baz(self):\n",
    "        print(\"GHOSH\")\n",
    "\n",
    "c = C()\n",
    "\n",
    "c.foo()\n",
    "c.bar()\n",
    "c.baz()"
   ]
  },
  {
   "cell_type": "markdown",
   "id": "6163250a",
   "metadata": {},
   "source": [
    "### Q4.\n",
    "\n",
    "**Getter and setter methods are used to access and modify the attributes of an object in a class. They allow controlled access to the attributes of a class and ensure that the values are validated before they are set.**"
   ]
  },
  {
   "cell_type": "code",
   "execution_count": 25,
   "id": "20be73e7",
   "metadata": {},
   "outputs": [],
   "source": [
    "class Person:\n",
    "    \n",
    "    def __init__(self, name, age):\n",
    "        self._name = name\n",
    "        self._age = age\n",
    "\n",
    "    @property\n",
    "    def name(self):\n",
    "        return self._name\n",
    "\n",
    "    @name.setter\n",
    "    def name(self, name):\n",
    "        self._name = name\n",
    "\n",
    "    @property\n",
    "    def age(self):\n",
    "        return self._age\n",
    "\n",
    "    @age.setter\n",
    "    def age(self, age):\n",
    "        if age < 0:\n",
    "            raise ValueError(\"Age cannot be negative\")\n",
    "        self._age = age"
   ]
  },
  {
   "cell_type": "code",
   "execution_count": 26,
   "id": "55bcacc6",
   "metadata": {},
   "outputs": [
    {
     "name": "stdout",
     "output_type": "stream",
     "text": [
      "SAYAN\n",
      "22\n"
     ]
    }
   ],
   "source": [
    "p = Person(\"SAYAN\", 22)\n",
    "\n",
    "print(p.name)\n",
    "print(p.age)"
   ]
  },
  {
   "cell_type": "code",
   "execution_count": 27,
   "id": "43e20320",
   "metadata": {},
   "outputs": [
    {
     "ename": "ValueError",
     "evalue": "Age cannot be negative",
     "output_type": "error",
     "traceback": [
      "\u001b[1;31m---------------------------------------------------------------------------\u001b[0m",
      "\u001b[1;31mValueError\u001b[0m                                Traceback (most recent call last)",
      "Input \u001b[1;32mIn [27]\u001b[0m, in \u001b[0;36m<cell line: 1>\u001b[1;34m()\u001b[0m\n\u001b[1;32m----> 1\u001b[0m p\u001b[38;5;241m.\u001b[39mage \u001b[38;5;241m=\u001b[39m \u001b[38;5;241m-\u001b[39m\u001b[38;5;241m1\u001b[39m\n\u001b[0;32m      2\u001b[0m \u001b[38;5;28mprint\u001b[39m(P\u001b[38;5;241m.\u001b[39mage)\n",
      "Input \u001b[1;32mIn [25]\u001b[0m, in \u001b[0;36mPerson.age\u001b[1;34m(self, age)\u001b[0m\n\u001b[0;32m     19\u001b[0m \u001b[38;5;129m@age\u001b[39m\u001b[38;5;241m.\u001b[39msetter\n\u001b[0;32m     20\u001b[0m \u001b[38;5;28;01mdef\u001b[39;00m \u001b[38;5;21mage\u001b[39m(\u001b[38;5;28mself\u001b[39m, age):\n\u001b[0;32m     21\u001b[0m     \u001b[38;5;28;01mif\u001b[39;00m age \u001b[38;5;241m<\u001b[39m \u001b[38;5;241m0\u001b[39m:\n\u001b[1;32m---> 22\u001b[0m         \u001b[38;5;28;01mraise\u001b[39;00m \u001b[38;5;167;01mValueError\u001b[39;00m(\u001b[38;5;124m\"\u001b[39m\u001b[38;5;124mAge cannot be negative\u001b[39m\u001b[38;5;124m\"\u001b[39m)\n\u001b[0;32m     23\u001b[0m     \u001b[38;5;28mself\u001b[39m\u001b[38;5;241m.\u001b[39m_age \u001b[38;5;241m=\u001b[39m age\n",
      "\u001b[1;31mValueError\u001b[0m: Age cannot be negative"
     ]
    }
   ],
   "source": [
    "p.age = -1\n",
    "print(P.age)"
   ]
  },
  {
   "cell_type": "markdown",
   "id": "512f7088",
   "metadata": {},
   "source": [
    "### Q5.\n",
    "\n",
    "**In Python, method overriding is a feature of object-oriented programming where a subclass provides its own implementation of a method that is already defined in its superclass.**"
   ]
  },
  {
   "cell_type": "code",
   "execution_count": 28,
   "id": "1c350555",
   "metadata": {},
   "outputs": [],
   "source": [
    "class Animal:\n",
    "    def speak(self):\n",
    "        print(\"Animal is speaking.\")\n",
    "\n",
    "class Dog(Animal):\n",
    "    def speak(self):\n",
    "        print(\"Dog is barking.\")"
   ]
  },
  {
   "cell_type": "code",
   "execution_count": 30,
   "id": "075952e6",
   "metadata": {},
   "outputs": [
    {
     "name": "stdout",
     "output_type": "stream",
     "text": [
      "Animal is speaking.\n",
      "Dog is barking.\n"
     ]
    }
   ],
   "source": [
    "animal = Animal()\n",
    "dog = Dog()\n",
    "\n",
    "animal.speak()\n",
    "dog.speak()"
   ]
  },
  {
   "cell_type": "code",
   "execution_count": null,
   "id": "2c7a5548",
   "metadata": {},
   "outputs": [],
   "source": []
  }
 ],
 "metadata": {
  "kernelspec": {
   "display_name": "Python 3 (ipykernel)",
   "language": "python",
   "name": "python3"
  },
  "language_info": {
   "codemirror_mode": {
    "name": "ipython",
    "version": 3
   },
   "file_extension": ".py",
   "mimetype": "text/x-python",
   "name": "python",
   "nbconvert_exporter": "python",
   "pygments_lexer": "ipython3",
   "version": "3.9.12"
  }
 },
 "nbformat": 4,
 "nbformat_minor": 5
}
